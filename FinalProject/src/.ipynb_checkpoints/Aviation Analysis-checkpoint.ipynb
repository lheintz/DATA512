{
 "cells": [
  {
   "cell_type": "markdown",
   "metadata": {},
   "source": [
    "# <center> How safe is flying really? </center>\n",
    "### <center> A time series aviation analysis </center>\n",
    "<center> Lauren Heintz </center>\n",
    "<center> DATA 512, Fall 2019 </center>\n",
    "<center> Due 12/12/19 </center>"
   ]
  },
  {
   "cell_type": "code",
   "execution_count": 2,
   "metadata": {},
   "outputs": [],
   "source": [
    "import pandas as pd\n",
    "import os"
   ]
  },
  {
   "cell_type": "code",
   "execution_count": 7,
   "metadata": {},
   "outputs": [
    {
     "name": "stdout",
     "output_type": "stream",
     "text": [
      "/Users/laurenheintz/Docs/MSDS/Fa2019/Data\n"
     ]
    }
   ],
   "source": [
    "%cd ~/Docs/MSDS/Fa2019/Data/"
   ]
  },
  {
   "cell_type": "markdown",
   "metadata": {},
   "source": [
    "## I. Data Acquisition\n",
    "\n",
    "The following CSV's were acquired from the below sources for this analysis. For more information on the source of the data, it's license, and what information each data set contains, see the **!!!!CHOOSE FINAL FILE NAME HERE!!!!** in the repository.  \n",
    "\n",
    "\n",
    "| Source | File Name |    Table Name    | Years | Data Source |\n",
    "| ---- | ------ | ------------ | ------- | ----|\n",
    "| 1 | faaAccidentIncidentDataSystem.csv | FAA Accident and Incident Data System (AIDS) | 1978 - 2015 | https://www.asias.faa.gov/apex/f?p=100:11:::NO::: |\n",
    "| 2 | accidentsAccidentRates_scheduledPass.csv | Accidents and Accident Rates by NTSB Classification, 1995 through 2014, for U.S. Air Carriers Operating Under 14 CFR 121 | 1983 - 2014| https://catalog.data.gov/dataset/accidents-and-accident-rates-by-ntsb-classification-1995-through-2014-for-u-s-air-carriers |\n",
    "| 3 | accidentsFatalitiesRates_airlines.csv | Accidents, Fatalities, and Rates, 1995 through 2014, for U.S. Air Carriers Operating Under 14 CFR 121, Scheduled and Nonscheduled Service (Airlines) | 1983 - 2014| https://catalog.data.gov/dataset/accidents-fatalities-and-rates-1995-through-2014-for-u-s-air-carriers-operating-under-14-c-dae36|\n",
    "| 4 | accidentsFatalitiesRates_genAv.csv | Accidents, Fatalities, and Rates, 1995 through 2014, U.S. General Aviation | 1975 - 2014 | https://catalog.data.gov/dataset/accidents-fatalities-and-rates-1995-through-2014-u-s-general-aviation |\n"
   ]
  },
  {
   "cell_type": "markdown",
   "metadata": {},
   "source": [
    "## II. Data Processing"
   ]
  },
  {
   "cell_type": "markdown",
   "metadata": {},
   "source": [
    "Data sources 2 and 3 both pertain to commercial airline data. Since there is quite a bit of overlap between the information in item 2 and 3, the first data processing task will be to join the two datasets. \n",
    "\n",
    "Our final cleaned, combined file of airline data will be saved as `data_clean\\airline_aggregate.csv` "
   ]
  },
  {
   "cell_type": "code",
   "execution_count": 31,
   "metadata": {},
   "outputs": [],
   "source": [
    "# Read in accidents data and accidents+fatalies data\n",
    "\n",
    "accidents_df = pd.read_csv('raw/accidentsAccidentRates_scheduledPass.csv', sep=',', header=0) # source 2\n",
    "accidents_fatal_df = pd.read_csv('raw/accidentsFatalitiesRates_airlines.csv', sep=',', header=0) # source 3\n"
   ]
  },
  {
   "cell_type": "code",
   "execution_count": 32,
   "metadata": {},
   "outputs": [
    {
     "data": {
      "text/plain": [
       "['Year',\n",
       " 'Accidents, Major',\n",
       " 'Accidents, Serious',\n",
       " 'Accidents, Injury',\n",
       " 'Aaccidents, Damage',\n",
       " 'Aircraft Hours Flown (millions)',\n",
       " 'Accidents per Million Hours Flown, Major',\n",
       " 'Accidents per Million Hours Flown, Serious',\n",
       " 'Accidents per Million Hours Flown, Injury',\n",
       " 'Accidents per Million Hours Flown, Damage']"
      ]
     },
     "execution_count": 32,
     "metadata": {},
     "output_type": "execute_result"
    }
   ],
   "source": [
    "accidents_df.head(1)\n",
    "list(accidents_df.columns)"
   ]
  },
  {
   "cell_type": "code",
   "execution_count": 33,
   "metadata": {},
   "outputs": [
    {
     "data": {
      "text/plain": [
       "['Year',\n",
       " 'Illegal Act',\n",
       " 'Accidents, All',\n",
       " 'Accidents, Fatal',\n",
       " 'Fatalies, Total',\n",
       " 'Fatalities, Aboard',\n",
       " 'Flight Hours',\n",
       " 'Miles Flown',\n",
       " 'Departures',\n",
       " 'Accidents per 100,000 Flight Hours, All',\n",
       " 'Accidents per 100,000 Flight Hours, Fatal',\n",
       " 'Accidents per 1,000,000 Miles Flown, All',\n",
       " 'Accidents per 1,000,000 Miles Flown, Fatal',\n",
       " 'Accidents per 100,000 Departures, All',\n",
       " 'Accidents per 100,000 Departures, Fatal']"
      ]
     },
     "execution_count": 33,
     "metadata": {},
     "output_type": "execute_result"
    }
   ],
   "source": [
    "list(accidents_fatal_df.columns)"
   ]
  },
  {
   "cell_type": "markdown",
   "metadata": {},
   "source": [
    "## III. Data Analysis"
   ]
  }
 ],
 "metadata": {
  "kernelspec": {
   "display_name": "Python 3",
   "language": "python",
   "name": "python3"
  },
  "language_info": {
   "codemirror_mode": {
    "name": "ipython",
    "version": 3
   },
   "file_extension": ".py",
   "mimetype": "text/x-python",
   "name": "python",
   "nbconvert_exporter": "python",
   "pygments_lexer": "ipython3",
   "version": "3.7.2"
  }
 },
 "nbformat": 4,
 "nbformat_minor": 2
}
